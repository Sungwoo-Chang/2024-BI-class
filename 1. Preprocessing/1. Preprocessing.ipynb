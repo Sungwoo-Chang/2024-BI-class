{
 "cells": [
  {
   "cell_type": "code",
   "execution_count": null,
   "metadata": {},
   "outputs": [],
   "source": [
    "import pandas as pd\n",
    "import scanpy as sc\n",
    "import numpy as np\n",
    "import scipy\n",
    "import matplotlib.pyplot as plt\n",
    "import rpy2\n",
    "from matplotlib import rcParams # for figure size adjustment\n",
    "import os"
   ]
  },
  {
   "cell_type": "markdown",
   "metadata": {},
   "source": [
    "# Load data"
   ]
  },
  {
   "cell_type": "code",
   "execution_count": null,
   "metadata": {},
   "outputs": [],
   "source": [
    "data_path = \"../../OneDrive/Documents/scData/hiv/processed_data/\"\n",
    "\n",
    "\n",
    "def load_data (file_name):\n",
    "    tdata = sc.read_10x_h5(data_path + file_name)\n",
    "    \n",
    "    # Some variables can be the same name, which could make errors in the downstream analysis.\n",
    "    # Add numbers (1, 2, 3, ...) to the variables to make the variables unique.\n",
    "    tdata.var_names_make_unique()\n",
    "    \n",
    "    print(f\"The shape of the dataset: n_obs {tdata.shape[0]} x n_vars {tdata.shape[1]}.\")\n",
    "    print(\"Init barcode count:\", tdata.shape[0])\n",
    "    print(\"Init_gene_count:\", tdata.shape[1], \"\\n\")\n",
    "    return tdata\n",
    "    \n",
    "normal_1 = load_data(\"normal_1_filtered_feature_bc_matrix.h5\")\n",
    "normal_2 = load_data(\"normal_2_filtered_feature_bc_matrix.h5\")\n",
    "normal_3 = load_data(\"normal_3_filtered_feature_bc_matrix.h5\")\n",
    "hiv_1 = load_data(\"hiv_1_filtered_feature_bc_matrix.h5\")\n",
    "hiv_2 = load_data(\"hiv_2_filtered_feature_bc_matrix.h5\")\n",
    "hiv_3 = load_data(\"hiv_3_filtered_feature_bc_matrix.h5\")"
   ]
  },
  {
   "cell_type": "code",
   "execution_count": null,
   "metadata": {},
   "outputs": [],
   "source": [
    "print(normal_1, \"\\n\")\n",
    "print(normal_2, \"\\n\")\n",
    "print(normal_3, \"\\n\")\n",
    "print(hiv_1, \"\\n\")\n",
    "print(hiv_2, \"\\n\")\n",
    "print(hiv_3, \"\\n\")"
   ]
  },
  {
   "cell_type": "markdown",
   "metadata": {},
   "source": [
    "# Quality control"
   ]
  },
  {
   "cell_type": "markdown",
   "metadata": {},
   "source": [
    "## Basic cell filtering"
   ]
  },
  {
   "cell_type": "code",
   "execution_count": null,
   "metadata": {},
   "outputs": [],
   "source": [
    "for adata in [normal_1, normal_2, normal_3, hiv_1, hiv_2, hiv_3]:\n",
    "    sc.pp.filter_cells(adata, min_genes = 200)\n",
    "    sc.pp.filter_genes(adata, min_cells = 3)"
   ]
  },
  {
   "cell_type": "markdown",
   "metadata": {},
   "source": [
    "## Draw QC plots"
   ]
  },
  {
   "cell_type": "code",
   "execution_count": null,
   "metadata": {},
   "outputs": [],
   "source": [
    "# annotate genes to adata\n",
    "for adata in [normal_1, normal_2, normal_3, hiv_1, hiv_2, hiv_3]:\n",
    "    # mitochondrial genes\n",
    "    adata.var[\"MT\"] = adata.var_names.str.startswith(\"MT-\")\n",
    "    # ribosomal genes\n",
    "    adata.var[\"ribo\"] = adata.var_names.str.startswith(\"RPS\") | adata.var_names.str.startswith(\"RPL\")\n",
    "    # hemoglobin genes.\n",
    "    # adata.var[\"hb\"] = adata.var_names.str.contains(\"^HB[^(p)]\")\n",
    "    # Malat1\n",
    "    adata.var[\"MALAT1\"] = adata.var_names.str.contains(\"MALAT1\")\n",
    "    \n",
    "    sc.pp.calculate_qc_metrics(\n",
    "        adata,\n",
    "        qc_vars = [\"MT\", \"ribo\", \"MALAT1\"],\n",
    "        inplace = True,\n",
    "        percent_top = [20],\n",
    "        log1p = True\n",
    "    )\n"
   ]
  },
  {
   "cell_type": "code",
   "execution_count": null,
   "metadata": {},
   "outputs": [],
   "source": [
    "# Highest expressed gene plots\n",
    "\n",
    "for adata in [normal_1, normal_2, normal_3, hiv_1, hiv_2, hiv_3]:\n",
    "    sc.pl.highest_expr_genes(adata, n_top = 20)\n",
    "    # MALAT1 frequently detected in RNA-seq data captured by poly-A\n",
    "    # A technical bias need to remove\n",
    "    # RPS, RPL: ribosomal genes\n",
    "    # MT-: mitochondrial genes"
   ]
  },
  {
   "cell_type": "code",
   "execution_count": null,
   "metadata": {},
   "outputs": [],
   "source": [
    "# Histogram of the cell quality\n",
    "\n",
    "for adata in [normal_1, normal_2, normal_3, hiv_1, hiv_2, hiv_3]:\n",
    "    fig, ax = plt.subplots(nrows=1, ncols=4, figsize=(15, 4))\n",
    "    n_bins = 50\n",
    "    ax[0].hist(adata.obs.n_genes_by_counts, bins = n_bins)\n",
    "    ax[0].set_title(\"n_genes_by_counts\")\n",
    "    ax[1].hist(adata.obs.total_counts, bins = n_bins)\n",
    "    ax[1].set_title(\"total_counts\")\n",
    "    # ax[2].hist(adata.obs.pct_counts_Malat1, bins=50)\n",
    "    # ax[2].set_title(\"pct_counts_MALAT1\")\n",
    "    ax[3].hist(adata.obs.pct_counts_ribo, bins = n_bins)\n",
    "    ax[3].set_title(\"pct_counts_ribo\")\n",
    "    # ax[1].hist(adata.obs.pct_counts_hb, bins=50)\n",
    "    # ax[1].set_title(\"pct_counts_hb\")\n",
    "    ax[2].hist(adata.obs.pct_counts_MT, bins = n_bins)\n",
    "    ax[2].set_title(\"pct_counts_MT\")\n",
    "\n",
    "    plt.tight_layout()\n",
    "    plt.show"
   ]
  },
  {
   "cell_type": "code",
   "execution_count": null,
   "metadata": {},
   "outputs": [],
   "source": [
    "# violin plot of the cell quality\n",
    "\n",
    "for adata in [normal_1, normal_2, normal_3, hiv_1, hiv_2, hiv_3]:\n",
    "    sc.pl.violin(\n",
    "        adata,\n",
    "        [\"n_genes_by_counts\", \"total_counts\", \"pct_counts_MT\"],\n",
    "        jitter=0.4,\n",
    "        multi_panel=True\n",
    "    )"
   ]
  },
  {
   "cell_type": "code",
   "execution_count": null,
   "metadata": {},
   "outputs": [],
   "source": [
    "# scatterplot of the cell quality\n",
    "\n",
    "rcParams['figure.figsize'] = 5, 5 # width, height\n",
    "\n",
    "for adata in [normal_1, normal_2, normal_3, hiv_1, hiv_2, hiv_3]:\n",
    "    # plt.figure(figsize=(5, 5))\n",
    "    sc.pl.scatter(\n",
    "        adata,\n",
    "        \"total_counts\",\n",
    "        \"n_genes_by_counts\",\n",
    "        color=\"pct_counts_MT\"\n",
    "    )\n",
    "    # plt.show()\n",
    " "
   ]
  },
  {
   "cell_type": "markdown",
   "metadata": {},
   "source": [
    "## MAD filtering"
   ]
  },
  {
   "cell_type": "code",
   "execution_count": null,
   "metadata": {},
   "outputs": [],
   "source": [
    "# Calculate MAD\n",
    "# https://tomorrow-lab.github.io/posts/drylab/python_scRNA_QC.html\n",
    "\n",
    "# Calculate MAD\n",
    "def is_outlier(adata, metric: str, nmads: int):\n",
    "    M = adata.obs[metric]\n",
    "    outlier = (M < np.median(M) - nmads * scipy.stats.median_abs_deviation(M)) | (\n",
    "        np.median(M) + nmads * scipy.stats.median_abs_deviation(M) < M\n",
    "    )\n",
    "    return outlier\n",
    "\n",
    "# Check the outliers\n",
    "for adata in [normal_1, normal_2, normal_3, hiv_1, hiv_2, hiv_3]:\n",
    "    adata.obs[\"outlier\"] = (\n",
    "        is_outlier(adata, \"log1p_total_counts\", 5)\n",
    "        | is_outlier(adata, \"log1p_n_genes_by_counts\", 5)\n",
    "        | is_outlier(adata, \"pct_counts_in_top_20_genes\", 5)\n",
    "    )\n",
    "    print(adata.obs.outlier.value_counts(), \"\\n\")\n",
    "\n",
    "# Check the outliers for MT\n",
    "for adata in [normal_1, normal_2, normal_3, hiv_1, hiv_2, hiv_3]:\n",
    "    adata.obs[\"MT_outlier\"] = is_outlier(adata, \"pct_counts_MT\", 3) |(\n",
    "        adata.obs[\"pct_counts_MT\"] > 8\n",
    "    )\n",
    "    print(adata.obs.MT_outlier.value_counts(), \"\\n\")"
   ]
  },
  {
   "cell_type": "markdown",
   "metadata": {},
   "source": [
    "## Actual filtering using MAD"
   ]
  },
  {
   "cell_type": "code",
   "execution_count": null,
   "metadata": {},
   "outputs": [],
   "source": [
    "# Filter out the outliers\n",
    "def MAD_filtering (adata):\n",
    "    print(f\"Cell number before filtering: {adata.n_obs}\")\n",
    "    adata = adata[(~adata.obs.outlier) & (~adata.obs.MT_outlier)]\n",
    "    \n",
    "    print(f\"Cell number after filtering: {adata.n_obs}\")\n",
    "    print()\n",
    "    return adata\n",
    "\n",
    "normal_1 = MAD_filtering(normal_1)\n",
    "normal_2 = MAD_filtering(normal_2)\n",
    "normal_3 = MAD_filtering(normal_3)\n",
    "hiv_1 = MAD_filtering(hiv_1)\n",
    "hiv_2 = MAD_filtering(hiv_2)\n",
    "hiv_3 = MAD_filtering(hiv_3)"
   ]
  },
  {
   "cell_type": "markdown",
   "metadata": {},
   "source": [
    "# Transient clustering for SoupX"
   ]
  },
  {
   "cell_type": "code",
   "execution_count": null,
   "metadata": {},
   "outputs": [],
   "source": [
    "from scipy.sparse import csc_matrix, save_npz\n",
    "\n",
    "def preprocessing_data_to_r (adata, annotation):\n",
    "    adata_pp = adata.copy() # copy adata to other variant\n",
    "    sc.pp.normalize_per_cell(adata_pp)  # normalize RNA count\n",
    "    sc.pp.log1p(adata_pp)   # calculate log1p\n",
    "    sc.pp.pca(adata_pp) # PCA calculation\n",
    "    sc.pp.neighbors(adata_pp) # neighboring\n",
    "    sc.tl.leiden(adata_pp, key_added=\"soupx_groups\") # leiden clustering\n",
    "\n",
    "    # 클러스터를 .obs에 soupx_groups로 추가하고 벡터로 저장합니다.\n",
    "    soupx_groups = adata_pp.obs[\"soupx_groups\"]\n",
    "\n",
    "    # AnnData 객체의 복사본을 삭제해 메모리를 절약합니다.\n",
    "    del adata_pp\n",
    "\n",
    "    # 세포, 유전자, 필터링된 카운터 행렬을 저장합니다.\n",
    "    # SoupX에는 모양 특징 x 바코드 행렬이 필요하므로 transpose해야 합니다.\n",
    "    cells = adata.obs_names\n",
    "    genes = adata.var_names\n",
    "    data = adata.X.T\n",
    "    \n",
    "    # Save data in \"./data_to_r/\" folder for further analysis\n",
    "    # 경로 설정\n",
    "    directory = '../file_to_r/'\n",
    "\n",
    "    # 경로가 존재하지 않으면 생성\n",
    "    if not os.path.exists(directory):\n",
    "        os.makedirs(directory)\n",
    "        \n",
    "    # 5. 파일명 생성\n",
    "    filename_cells = f\"{annotation}_cells.csv\"\n",
    "    filepath_cells = os.path.join(directory, filename_cells)\n",
    "    filename_genes = f\"{annotation}_genes.csv\"\n",
    "    filepath_genes = os.path.join(directory, filename_genes)\n",
    "    filename_data = f\"{annotation}_data.npz\"\n",
    "    filepath_data = os.path.join(directory, filename_data)\n",
    "\n",
    "    # 6. Feather 파일로 저장\n",
    "    cells.to_series().to_csv(filepath_cells, index=False, header=['Index'])\n",
    "    genes.to_series().to_csv(filepath_genes, index=False, header=['Index'])\n",
    "    save_npz(filepath_data, data)\n",
    "\n",
    "    print(f\"DataFrame is saved as {filepath_cells}\")\n",
    "    print(f\"DataFrame is saved as {filepath_genes}\")\n",
    "    print(f\"DataFrame is saved as {filepath_data}\")"
   ]
  },
  {
   "cell_type": "code",
   "execution_count": null,
   "metadata": {},
   "outputs": [],
   "source": [
    "preprocessing_data_to_r(normal_1, \"normal_1\")"
   ]
  },
  {
   "cell_type": "code",
   "execution_count": null,
   "metadata": {},
   "outputs": [],
   "source": [
    "# save raw_feature_bc_matrix.h5 for further analysis in r\n",
    "data_path = \"../../OneDrive/Documents/scData/hiv/raw_data/\"\n",
    "\n",
    "def load_data (file_name):\n",
    "    tdata = sc.read_10x_h5(data_path + file_name)\n",
    "    \n",
    "    tdata.var_names_make_unique()\n",
    "    \n",
    "    # print(f\"The shape of the dataset: n_obs {tdata.shape[0]} x n_vars {tdata.shape[1]}.\")\n",
    "    # print(\"Init barcode count:\", tdata.shape[0])\n",
    "    # print(\"Init_gene_count:\", tdata.shape[1], \"\\n\")\n",
    "    return tdata.X.T\n",
    "    \n",
    "normal_1_tod = load_data(\"normal_1_raw_feature_bc_matrix.h5\")\n",
    "normal_2_tod = load_data(\"normal_2_raw_feature_bc_matrix.h5\")\n",
    "normal_3_tod = load_data(\"normal_3_raw_feature_bc_matrix.h5\")"
   ]
  },
  {
   "cell_type": "code",
   "execution_count": null,
   "metadata": {},
   "outputs": [],
   "source": [
    "type(normal_1_tod)"
   ]
  },
  {
   "cell_type": "markdown",
   "metadata": {},
   "source": [
    "# Doublet removing using scDblFinder"
   ]
  },
  {
   "cell_type": "code",
   "execution_count": null,
   "metadata": {},
   "outputs": [],
   "source": [
    "# for run R code in jupyter notebook\n",
    "import os\n",
    "os.environ['R_HOME'] = \"C:/Users/heung/anaconda3/Lib/R\""
   ]
  },
  {
   "cell_type": "code",
   "execution_count": null,
   "metadata": {},
   "outputs": [],
   "source": [
    "# to use R in jupyter notebook\n",
    "import anndata2ri\n",
    "import logging\n",
    "\n",
    "import rpy2.rinterface_lib.callbacks as rcb\n",
    "import rpy2.robjects as ro\n",
    "from rpy2.robjects.packages import importr, PackageNotInstalledError\n",
    "\n",
    "rcb.logger.setLevel(logging.ERROR)\n",
    "ro.pandas2ri.activate()\n",
    "anndata2ri.activate\n",
    "\n",
    "%load_ext rpy2.ipython"
   ]
  },
  {
   "cell_type": "code",
   "execution_count": null,
   "metadata": {},
   "outputs": [],
   "source": [
    "normal_1_t = anndata2ri.py2rpy(normal_1.X.T)\n",
    "normal_2_t = anndata2ri.py2rpy(normal_2.X.T)\n",
    "normal_3_t = anndata2ri.py2rpy(normal_3.X.T)\n",
    "hiv_1_t = anndata2ri.py2rpy(hiv_1.X.T)\n",
    "hiv_2_t = anndata2ri.py2rpy(hiv_2.X.T)\n",
    "hiv_3_t = anndata2ri.py2rpy(hiv_3.X.T)"
   ]
  },
  {
   "cell_type": "code",
   "execution_count": null,
   "metadata": {},
   "outputs": [],
   "source": [
    "%%R -i normal_1_t,normal_2_t,normal_3_t,hiv_1_t,hiv_2_t,hiv_3_t\n",
    "\n",
    "saveRDS(normal_1_t, \"../file_to_r/normal_1_t.rds\")\n",
    "saveRDS(normal_2_t, \"../file_to_r/normal_2_t.rds\")\n",
    "saveRDS(normal_3_t, \"../file_to_r/normal_3_t.rds\")\n",
    "saveRDS(hiv_1_t, \"../file_to_r/hiv_1_t.rds\")\n",
    "saveRDS(hiv_2_t, \"../file_to_r/hiv_2_t.rds\")\n",
    "saveRDS(hiv_3_t, \"../file_to_r/hiv_3_t.rds\")"
   ]
  },
  {
   "cell_type": "markdown",
   "metadata": {},
   "source": [
    "여기서 R로 갔다가 scDblFinder 돌리고 다시 돌아옴"
   ]
  },
  {
   "cell_type": "code",
   "execution_count": null,
   "metadata": {},
   "outputs": [],
   "source": [
    "%%R -o normal_1_dbl_score -o normal_1_dbl_class -o normal_2_dbl_score -o normal_2_dbl_class -o normal_3_dbl_score -o normal_3_dbl_class -o hiv_1_dbl_score -o hiv_1_dbl_class -o hiv_2_dbl_score -o hiv_2_dbl_class -o hiv_3_dbl_score -o hiv_3_dbl_class\n",
    "\n",
    "# Load libraries\n",
    "normal_1_dbl_score <- readRDS(\"../file_to_py/normal_1_dbl_score.rds\")\n",
    "normal_1_dbl_class <- readRDS(\"../file_to_py/normal_1_dbl_class.rds\")\n",
    "normal_2_dbl_score <- readRDS(\"../file_to_py/normal_2_dbl_score.rds\")\n",
    "normal_2_dbl_class <- readRDS(\"../file_to_py/normal_2_dbl_class.rds\")\n",
    "normal_3_dbl_score <- readRDS(\"../file_to_py/normal_3_dbl_score.rds\")\n",
    "normal_3_dbl_class <- readRDS(\"../file_to_py/normal_3_dbl_class.rds\")\n",
    "\n",
    "hiv_1_dbl_score <- readRDS(\"../file_to_py/hiv_1_dbl_score.rds\")\n",
    "hiv_1_dbl_class <- readRDS(\"../file_to_py/hiv_1_dbl_class.rds\")\n",
    "hiv_2_dbl_score <- readRDS(\"../file_to_py/hiv_2_dbl_score.rds\")\n",
    "hiv_2_dbl_class <- readRDS(\"../file_to_py/hiv_2_dbl_class.rds\")\n",
    "hiv_3_dbl_score <- readRDS(\"../file_to_py/hiv_3_dbl_score.rds\")\n",
    "hiv_3_dbl_class <- readRDS(\"../file_to_py/hiv_3_dbl_class.rds\")"
   ]
  },
  {
   "cell_type": "code",
   "execution_count": null,
   "metadata": {},
   "outputs": [],
   "source": [
    "# Save the result as adata.obs\n",
    "normal_1.obs[\"scDblFinder_score\"] = normal_1_dbl_score\n",
    "normal_1.obs[\"scDblFinder_class\"] = normal_1_dbl_class\n",
    "normal_2.obs[\"scDblFinder_score\"] = normal_2_dbl_score\n",
    "normal_2.obs[\"scDblFinder_class\"] = normal_2_dbl_class\n",
    "normal_3.obs[\"scDblFinder_score\"] = normal_3_dbl_score\n",
    "normal_3.obs[\"scDblFinder_class\"] = normal_3_dbl_class\n",
    "\n",
    "hiv_1.obs[\"scDblFinder_score\"] = hiv_1_dbl_score\n",
    "hiv_1.obs[\"scDblFinder_class\"] = hiv_1_dbl_class\n",
    "hiv_2.obs[\"scDblFinder_score\"] = hiv_2_dbl_score\n",
    "hiv_2.obs[\"scDblFinder_class\"] = hiv_2_dbl_class\n",
    "hiv_3.obs[\"scDblFinder_score\"] = hiv_3_dbl_score\n",
    "hiv_3.obs[\"scDblFinder_class\"] = hiv_3_dbl_class"
   ]
  },
  {
   "cell_type": "code",
   "execution_count": null,
   "metadata": {},
   "outputs": [],
   "source": [
    "print(type(normal_1.obs.scDblFinder_score))\n",
    "\n",
    "\n",
    "print(type(hiv_1.obs))\n",
    "print(type(hiv_1.obs.scDblFinder_score))"
   ]
  },
  {
   "cell_type": "code",
   "execution_count": null,
   "metadata": {},
   "outputs": [],
   "source": [
    "print(normal_1.obs.scDblFinder_class.value_counts(), \"\\n\")\n",
    "print(normal_2.obs.scDblFinder_class.value_counts(), \"\\n\")\n",
    "print(normal_3.obs.scDblFinder_class.value_counts(), \"\\n\")\n",
    "print(hiv_1.obs.scDblFinder_class.value_counts(), \"\\n\")\n",
    "print(hiv_2.obs.scDblFinder_class.value_counts(), \"\\n\")\n",
    "print(hiv_3.obs.scDblFinder_class.value_counts(), \"\\n\")"
   ]
  },
  {
   "cell_type": "code",
   "execution_count": null,
   "metadata": {},
   "outputs": [],
   "source": [
    "# Doublet score histogram\n",
    "\n",
    "plt.figure()\n",
    "plt.hist(normal_1.obs.scDblFinder_score, bins=50)\n",
    "plt.title(\"normal_1 doublet score\")\n",
    "plt.show()\n",
    "\n",
    "plt.figure()\n",
    "plt.hist(normal_2.obs.scDblFinder_score, bins=50)\n",
    "plt.title(\"normal_2 doublet score\")\n",
    "plt.show()\n",
    "\n",
    "plt.figure()\n",
    "plt.hist(normal_3.obs.scDblFinder_score, bins=50)\n",
    "plt.title(\"normal_3 doublet score\")\n",
    "plt.show()\n",
    "\n",
    "plt.figure()\n",
    "plt.hist(hiv_1.obs.scDblFinder_score, bins=50)\n",
    "plt.title(\"hiv_1 doublet score\")\n",
    "plt.show()\n",
    "\n",
    "plt.figure()\n",
    "plt.hist(hiv_2.obs.scDblFinder_score, bins=50)\n",
    "plt.title(\"hiv_2 doublet score\")\n",
    "plt.show()\n",
    "\n",
    "plt.figure()\n",
    "plt.hist(hiv_3.obs.scDblFinder_score, bins=50)\n",
    "plt.title(\"hiv_3 doublet score\")\n",
    "plt.show()"
   ]
  },
  {
   "cell_type": "code",
   "execution_count": null,
   "metadata": {},
   "outputs": [],
   "source": [
    "# save quality controled files\n",
    "\n",
    "normal_1.write(\"../qc_files/normal_1_quality_control.h5ad\")\n",
    "normal_2.write(\"../qc_files/normal_2_quality_control.h5ad\")\n",
    "normal_3.write(\"../qc_files/normal_3_quality_control.h5ad\")\n",
    "hiv_1.write(\"../qc_files/hiv_1_quality_control.h5ad\")\n",
    "hiv_2.write(\"../qc_files/hiv_2_quality_control.h5ad\")\n",
    "hiv_3.write(\"../qc_files/hiv_3_quality_control.h5ad\")"
   ]
  }
 ],
 "metadata": {
  "kernelspec": {
   "display_name": "JSW_conda",
   "language": "python",
   "name": "conda"
  },
  "language_info": {
   "codemirror_mode": {
    "name": "ipython",
    "version": 3
   },
   "file_extension": ".py",
   "mimetype": "text/x-python",
   "name": "python",
   "nbconvert_exporter": "python",
   "pygments_lexer": "ipython3",
   "version": "3.11.7"
  }
 },
 "nbformat": 4,
 "nbformat_minor": 2
}
